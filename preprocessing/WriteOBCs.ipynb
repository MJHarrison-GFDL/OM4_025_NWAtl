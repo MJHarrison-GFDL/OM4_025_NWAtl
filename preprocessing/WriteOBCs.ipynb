{
 "cells": [
  {
   "cell_type": "code",
   "execution_count": 1,
   "metadata": {},
   "outputs": [],
   "source": [
    "import xarray as xr\n",
    "import numpy as np\n",
    "from midas.rectgrid import *"
   ]
  },
  {
   "cell_type": "code",
   "execution_count": 2,
   "metadata": {},
   "outputs": [],
   "source": [
    "ds=xr.open_dataset('/work/mjh/WenHao/NWAtl/19920101.ocean_NWA.nc')\n",
    "#ds=xr.open_dataset('NWAtl/parent_state.nc')\n",
    "sgrid=supergrid(file='NWAtl/ocean_hgrid.nc')\n",
    "grid=quadmesh(supergrid=sgrid)"
   ]
  },
  {
   "cell_type": "code",
   "execution_count": 3,
   "metadata": {},
   "outputs": [
    {
     "name": "stdout",
     "output_type": "stream",
     "text": [
      "176 224\n",
      "168 210\n",
      "168 197\n",
      "-100.0 -58.0\n",
      "-100.0 -58.0\n",
      "15.073066511750687 54.052509039229584\n",
      "15.073066511750687 54.052509039229584\n"
     ]
    }
   ],
   "source": [
    "(nj,ni)=(ds['ssh'].shape[1],ds['ssh'].shape[2])\n",
    "print(ni,nj)\n",
    "jst=13\n",
    "ni=ni-8;nj=jst+grid.jm\n",
    "print(ni,nj)\n",
    "print(grid.im,grid.jm)\n",
    "print(grid.lonq[0],grid.lonq[-1])\n",
    "print(ds.xq_sub01[0].load().data,ds.xq_sub01[ni].load().data)\n",
    "print(grid.latq[0],grid.latq[-1])\n",
    "print(ds.yq_sub01[jst].load().data,ds.yq_sub01[nj].load().data)"
   ]
  },
  {
   "cell_type": "code",
   "execution_count": 4,
   "metadata": {},
   "outputs": [],
   "source": [
    "seg_001_temp=ds['temp'].isel(xh_sub02=slice(0,ni),yh_sub02=slice(jst-1,jst+1)).mean(axis=2,keepdims=True)\n",
    "seg_001_salt=ds['salt'].isel(xh_sub02=slice(0,ni),yh_sub02=slice(jst-1,jst+1)).mean(axis=2,keepdims=True)\n",
    "seg_001_ssh=ds['ssh'].isel(xh_sub02=slice(0,ni),yh_sub02=slice(jst-1,jst+1)).mean(axis=1,keepdims=True)\n",
    "seg_001_u=ds['u'].isel(xq_sub01=slice(0,ni+1),yh_sub01=slice(jst-1,jst+1)).mean(axis=2,keepdims=True)\n",
    "seg_001_v=ds['v'].isel(xh_sub01=slice(0,ni),yq_sub01=slice(jst,jst+1))\n",
    "\n",
    "seg_002_temp=ds['temp'].isel(xh_sub02=slice(ni-1,ni+1),yh_sub02=slice(jst,nj)).mean(axis=3,keepdims=True)\n",
    "seg_002_salt=ds['salt'].isel(xh_sub02=slice(ni-1,ni+1),yh_sub02=slice(jst,nj)).mean(axis=3,keepdims=True)\n",
    "seg_002_ssh=ds['ssh'].isel(xh_sub02=slice(ni-1,ni+1),yh_sub02=slice(jst,nj)).mean(axis=2,keepdims=True)\n",
    "seg_002_u=ds['u'].isel(xq_sub01=slice(ni,ni+1),yh_sub01=slice(jst,nj))\n",
    "seg_002_v=ds['v'].isel(xh_sub01=slice(ni-1,ni+1),yq_sub01=slice(jst,nj+1)).mean(axis=3,keepdims=True)\n"
   ]
  },
  {
   "cell_type": "code",
   "execution_count": 5,
   "metadata": {},
   "outputs": [],
   "source": [
    "seg_001_temp=seg_001_temp.rename({'yh_sub02':'lat','xh_sub02':'pos'})\n",
    "seg_001_salt=seg_001_salt.rename({'yh_sub02':'lat','xh_sub02':'pos'})\n",
    "seg_001_ssh=seg_001_ssh.rename({'yh_sub02':'lat','xh_sub02':'pos'})\n",
    "seg_001_u=seg_001_u.rename({'yh_sub01':'lat','xq_sub01':'pos'})\n",
    "seg_001_v=seg_001_v.rename({'yq_sub01':'lat','xh_sub01':'pos'})\n",
    "\n",
    "seg_002_temp=seg_002_temp.rename({'yh_sub02':'pos','xh_sub02':'lon'})\n",
    "seg_002_salt=seg_002_salt.rename({'yh_sub02':'pos','xh_sub02':'lon'})\n",
    "seg_002_ssh=seg_002_ssh.rename({'yh_sub02':'pos','xh_sub02':'lon'})\n",
    "seg_002_u=seg_002_u.rename({'yh_sub01':'pos','xq_sub01':'lon'})\n",
    "seg_002_v=seg_002_v.rename({'yq_sub01':'pos','xh_sub01':'lon'})\n",
    "\n"
   ]
  },
  {
   "cell_type": "code",
   "execution_count": 23,
   "metadata": {},
   "outputs": [],
   "source": [
    "params=[]\n",
    "\n",
    "params.append({'suffix':'_segment_001','dim0':2,'temp_in':seg_001_temp,'salt_in':seg_001_salt,\\\n",
    "               'tr_out':'obc_ts_south.nc',\\\n",
    "               'u_in':seg_001_u,'v_in':seg_001_v,'u_out':'obc_u_south.nc','v_out':'obc_v_south.nc',\\\n",
    "               'ssh_in':seg_001_ssh,'ssh_out':'obc_ssh_south.nc'})\n",
    "\n",
    "params.append({'suffix':'_segment_002','dim0':3,'temp_in':seg_002_temp,'salt_in':seg_002_salt,\\\n",
    "               'tr_out':'obc_ts_east.nc',\\\n",
    "               'u_in':seg_002_u,'v_in':seg_002_v,'u_out':'obc_u_east.nc','v_out':'obc_v_east.nc',\\\n",
    "               'ssh_in':seg_002_ssh,'ssh_out':'obc_ssh_east.nc'})\n",
    "\n",
    "for pr in params:\n",
    "    ds_temp=pr['temp_in']\n",
    "    ds_salt=pr['salt_in']\n",
    "    ds_u=pr['u_in']\n",
    "    ds_v=pr['v_in']\n",
    "    zl=ds_temp.zl\n",
    "    zi=0.5*(np.roll(zl,shift=-1)+zl)\n",
    "    zi[-1]=6500.\n",
    "    ds_temp['z_i']=zi\n",
    "    dz=zi-np.roll(zi,shift=1)\n",
    "    dz[0]=zi[0]\n",
    "    ds_temp['dz']=dz\n",
    "    nt=ds_temp.time.shape[0]\n",
    "    nx=ds_temp.pos.shape[0]\n",
    "    dz=np.tile(ds_temp.dz.data[np.newaxis,:,np.newaxis],(nt,1,nx))\n",
    "    \n",
    "    if pr['dim0']==3:\n",
    "        dz=dz[:,:,:,np.newaxis]\n",
    "        da_dz=xr.DataArray(dz,coords=[('time',ds_temp.time),('zl',ds_temp.zl),('pos',ds_temp.pos),('lon',ds_u.lon.data)])\n",
    "    elif pr['dim0']==2:\n",
    "        dz=dz[:,:,np.newaxis,:]\n",
    "        da_dz=xr.DataArray(dz,coords=[('time',ds_temp.time),('zl',ds_temp.zl),('lat',ds_v.lat.data),('pos',ds_temp.pos)])\n",
    "    ds_temp.time.attrs['modulo']=' '\n",
    "    ds_salt.time.attrs['modulo']=' '\n",
    "    da_temp=xr.DataArray(ds_temp.ffill(dim='pos',limit=None).ffill(dim='zl').fillna(0.))\n",
    "    da_salt=xr.DataArray(ds_salt.ffill(dim='pos',limit=None).ffill(dim='zl').fillna(0.))\n",
    "    ds_=xr.Dataset({'temp'+pr['suffix']:da_temp,'salt'+pr['suffix']:da_salt,\\\n",
    "                    'dz_temp'+pr['suffix']:da_dz,'dz_salt'+pr['suffix']:da_dz})\n",
    "    for v in ds_:\n",
    "        ds_[v].encoding['_FillValue']=1.e20    \n",
    "    ds_['time'].encoding['_FillValue']=1.e20\n",
    "    ds_['pos'].encoding['_FillValue']=1.e20\n",
    "    ds_['pos'].encoding['_FillValue']=1.e20\n",
    "    ds_['zl'].encoding['_FillValue']=1.e20\n",
    "    ds_.drop_vars('z_i')\n",
    "    ds_.drop_vars('dz')\n",
    "    \n",
    "    if pr['dim0']==3:\n",
    "        ds_['lon'].encoding['_FillValue']=1.e20\n",
    "    else:\n",
    "        ds_['lat'].encoding['_FillValue']=1.e20\n",
    "    \n",
    "    ds_.to_netcdf(pr['tr_out'],unlimited_dims=('time'))\n",
    "    \n",
    "    ds_u.time.attrs['modulo']=' '\n",
    "    ds_v.time.attrs['modulo']=' '\n",
    "    da_u=xr.DataArray(ds_u.ffill(dim='pos',limit=None).ffill(dim='zl').fillna(0.))\n",
    "    #da_u=da_u.expand_dims('dim_0',pr['dim0'])\n",
    "    da_v=xr.DataArray(ds_v.ffill(dim='pos',limit=None).ffill(dim='zl').fillna(0.))\n",
    "    #da_v=da_v.expand_dims('dim_0',pr['dim0'])\n",
    "    if pr['dim0']==3:\n",
    "        dzu=np.tile(ds_temp.dz.data[np.newaxis,:,np.newaxis,np.newaxis],(nt,1,nx,1))\n",
    "        dzv=np.tile(ds_temp.dz.data[np.newaxis,:,np.newaxis,np.newaxis],(nt,1,nx+1,1))\n",
    "        da_dzu=xr.DataArray(dzu,coords=[('time',ds_u.time),('zl',ds_u.zl),('pos',ds_u.pos),('lon',da_u.lon)])\n",
    "        da_dzv=xr.DataArray(dzv,coords=[('time',ds_v.time),('zl',ds_v.zl),('pos',ds_v.pos),('lon',da_u.lon)])\n",
    "        ds_u=xr.Dataset({'u'+pr['suffix']:da_u,'dz_u'+pr['suffix']:da_dzu})\n",
    "        ds_v=xr.Dataset({'v'+pr['suffix']:da_v,'dz_v'+pr['suffix']:da_dzv})\n",
    "    elif pr['dim0']==2:\n",
    "        dzu=np.tile(ds_temp.dz.data[np.newaxis,:,np.newaxis,np.newaxis],(nt,1,1,nx+1))\n",
    "        dzv=np.tile(ds_temp.dz.data[np.newaxis,:,np.newaxis,np.newaxis],(nt,1,1,nx))\n",
    "        da_dzu=xr.DataArray(dzu,coords=[('time',ds_u.time),('zl',ds_u.zl),('lat',da_u.lat),('pos',ds_u.pos)])\n",
    "        da_dzv=xr.DataArray(dzv,coords=[('time',ds_v.time),('zl',ds_v.zl),('lat',da_v.lat),('pos',ds_v.pos)])\n",
    "        ds_u=xr.Dataset({'u'+pr['suffix']:da_u,'dz_u'+pr['suffix']:da_dzu})\n",
    "        ds_v=xr.Dataset({'v'+pr['suffix']:da_v,'dz_v'+pr['suffix']:da_dzv})\n",
    "\n",
    "    for v in ds_u:\n",
    "        #print(v)\n",
    "        ds_u[v].encoding['_FillValue']=1.e20\n",
    "    for v in ds_v:\n",
    "    #    print(v)\n",
    "        ds_v[v].encoding['_FillValue']=1.e20\n",
    "      \n",
    "    ds_u['time'].encoding['_FillValue']=1.e20\n",
    "    ds_u['pos'].encoding['_FillValue']=1.e20\n",
    "    ds_v['time'].encoding['_FillValue']=1.e20\n",
    "    ds_v['pos'].encoding['_FillValue']=1.e20\n",
    "    if pr['dim0']==3:\n",
    "        ds_u['lon'].encoding['_FillValue']=1.e20\n",
    "        ds_v['lon'].encoding['_FillValue']=1.e20\n",
    "        ds_v=ds_v.assign_coords({'lon':ds_u.lon})\n",
    "    else:\n",
    "        ds_u['lat'].encoding['_FillValue']=1.e20\n",
    "        ds_v['lat'].encoding['_FillValue']=1.e20\n",
    "        ds_u=ds_u.assign_coords({'lat':ds_v.lat})\n",
    "\n",
    "    ds_u['zl'].encoding['_FillValue']=1.e20\n",
    "    ds_v['zl'].encoding['_FillValue']=1.e20\n",
    "\n",
    "    \n",
    "    ds_u.to_netcdf(pr['u_out'],unlimited_dims=('time'))\n",
    "    ds_v.to_netcdf(pr['v_out'],unlimited_dims=('time'))\n",
    "\n",
    "    ds=pr['ssh_in']\n",
    "    ds.time.attrs['modulo']=' '\n",
    "    da_ssh=xr.DataArray(ds.ffill(dim='pos',limit=None).fillna(0.))\n",
    "    #da_ssh=da_ssh.expand_dims('dim_0',pr['dim0']-1)\n",
    "    ds_=xr.Dataset({'ssh'+pr['suffix']:da_ssh})\n",
    "    for v in ds_:\n",
    "        ds_[v].encoding['_FillValue']=1.e20 \n",
    "    ds_['time'].encoding['_FillValue']=1.e20\n",
    "    ds_['pos'].encoding['_FillValue']=1.e20\n",
    "    if pr['dim0']==3:\n",
    "        ds_['lon'].encoding['_FillValue']=1.e20\n",
    "    else:\n",
    "        ds_['lat'].encoding['_FillValue']=1.e20\n",
    "\n",
    "    ds_.to_netcdf(pr['ssh_out'],unlimited_dims=('time'))"
   ]
  },
  {
   "cell_type": "code",
   "execution_count": 25,
   "metadata": {},
   "outputs": [
    {
     "data": {
      "text/plain": [
       "<matplotlib.collections.QuadMesh at 0x2b3dca9730d0>"
      ]
     },
     "execution_count": 25,
     "metadata": {},
     "output_type": "execute_result"
    },
    {
     "data": {
      "image/png": "[encoded data removed]",
      "text/plain": [
       "<Figure size 432x288 with 2 Axes>"
      ]
     },
     "metadata": {
      "needs_background": "light"
     },
     "output_type": "display_data"
    }
   ],
   "source": [
    "ds_u['u_segment_002'].isel(time=slice(0,1)).plot()"
   ]
  },
  {
   "cell_type": "code",
   "execution_count": null,
   "metadata": {},
   "outputs": [],
   "source": []
  }
 ],
 "metadata": {
  "kernelspec": {
   "display_name": "Python 3",
   "language": "python",
   "name": "python3"
  },
  "language_info": {
   "codemirror_mode": {
    "name": "ipython",
    "version": 3
   },
   "file_extension": ".py",
   "mimetype": "text/x-python",
   "name": "python",
   "nbconvert_exporter": "python",
   "pygments_lexer": "ipython3",
   "version": "3.8.1"
  }
 },
 "nbformat": 4,
 "nbformat_minor": 4
}
